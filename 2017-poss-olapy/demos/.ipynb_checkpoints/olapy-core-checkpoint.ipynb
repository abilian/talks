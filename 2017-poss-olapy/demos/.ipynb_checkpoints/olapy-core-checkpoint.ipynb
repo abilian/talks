{
 "cells": [
  {
   "cell_type": "code",
   "execution_count": null,
   "metadata": {
    "collapsed": true
   },
   "outputs": [],
   "source": [
    "from olapy.core.mdx.executor.execute import MdxEngine\n",
    "\n",
    "mdx_query = \"\"\"SELECT\n",
    "            Hierarchize({[Measures].[Amount]}) ON COLUMNS\n",
    "            FROM\n",
    "            \"\"\"\n",
    "\n",
    "executor = MdxEngine('sales')\n",
    "\n",
    "execution_result = executor.execute_mdx(mdx_query)['result']\n",
    "result"
   ]
  }
 ],
 "metadata": {
  "kernelspec": {
   "display_name": "Python 2",
   "language": "python",
   "name": "python2"
  },
  "language_info": {
   "codemirror_mode": {
    "name": "ipython",
    "version": 2
   },
   "file_extension": ".py",
   "mimetype": "text/x-python",
   "name": "python",
   "nbconvert_exporter": "python",
   "pygments_lexer": "ipython2",
   "version": "2.7.14"
  }
 },
 "nbformat": 4,
 "nbformat_minor": 1
}
