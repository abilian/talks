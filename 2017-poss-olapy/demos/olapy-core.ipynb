{
 "cells": [
  {
   "cell_type": "code",
   "execution_count": null,
   "metadata": {
    "collapsed": true
   },
   "outputs": [],
   "source": [
    "from olapy.core.mdx.executor.execute import MdxEngine\n",
    "\n",
    "mdx_query = \"\"\"SELECT\n",
    "            Hierarchize({[Measures].[average_sales_M]}) ON COLUMNS\n",
    "            FROM [Black_Friday]\n",
    "            \"\"\"\n",
    "\n",
    "executor = MdxEngine('Black_Friday')\n",
    "\n",
    "execution_result = executor.execute_mdx(mdx_query)['result']\n",
    "execution_result"
   ]
  }
 ],
 "metadata": {
  "kernelspec": {
   "display_name": "Python 2",
   "language": "python",
   "name": "python2"
  },
  "language_info": {
   "codemirror_mode": {
    "name": "ipython",
    "version": 2
   },
   "file_extension": ".py",
   "mimetype": "text/x-python",
   "name": "python",
   "nbconvert_exporter": "python",
   "pygments_lexer": "ipython2",
   "version": "2.7.12"
  }
 },
 "nbformat": 4,
 "nbformat_minor": 1
}
